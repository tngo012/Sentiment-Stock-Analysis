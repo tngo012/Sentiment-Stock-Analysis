{
 "cells": [
  {
   "cell_type": "markdown",
   "metadata": {},
   "source": [
    "### Name: Tai Ngo\n",
    "### DSC-680: Data Science Application\n",
    "\n",
    "### Using Sentiment Analysis on Finviz Articles about Stocks"
   ]
  },
  {
   "cell_type": "markdown",
   "metadata": {},
   "source": [
    "#### Skills: Web Scraping, Data Analysis, Data Visualization"
   ]
  },
  {
   "cell_type": "code",
   "execution_count": 1,
   "metadata": {},
   "outputs": [],
   "source": [
    "from urllib.request import urlopen, Request\n",
    "from bs4 import BeautifulSoup"
   ]
  },
  {
   "cell_type": "markdown",
   "metadata": {},
   "source": [
    "#### Stocks: S&P 500 ETF (SPY), Techology ETF (TQQQ), Gold Index (GOLD)"
   ]
  },
  {
   "cell_type": "code",
   "execution_count": 2,
   "metadata": {},
   "outputs": [],
   "source": [
    "# get the data from finviz for three tickers: SPY, TQQQ and VIXY\n",
    "\n",
    "fv_url = 'https://finviz.com/quote.ashx?t='\n",
    "tickers = ['QQQ', 'GLD', 'SPY']\n",
    "\n",
    "table_news = {}\n",
    "\n",
    "for symbol in tickers:\n",
    "    url = fv_url + symbol\n",
    "    \n",
    "    req = Request(url=url, headers={'user-agent': 'my-app'})\n",
    "    response = urlopen(req)\n",
    "    \n",
    "    html = BeautifulSoup(response, 'html')\n",
    "    news_table = html.find(id='news-table')\n",
    "    table_news[symbol] = news_table"
   ]
  },
  {
   "cell_type": "markdown",
   "metadata": {},
   "source": [
    "#### Parse and Manipulate the Data"
   ]
  },
  {
   "cell_type": "code",
   "execution_count": 3,
   "metadata": {},
   "outputs": [
    {
     "data": {
      "text/plain": [
       "'spy_ = table_news[\\'SPY\\']\\nspy__ = spy_.findAll(\\'tr\\')\\n\\nfor i, r in enumerate(spy__):\\n    contents = r.a.text\\n    timestamp = r.td.text\\n    \\nprint(timestamp + \" \" + contents)'"
      ]
     },
     "execution_count": 3,
     "metadata": {},
     "output_type": "execute_result"
    }
   ],
   "source": [
    "# obtain text for SPY\n",
    "'''spy_ = table_news['SPY']\n",
    "spy__ = spy_.findAll('tr')\n",
    "\n",
    "for i, r in enumerate(spy__):\n",
    "    contents = r.a.text\n",
    "    timestamp = r.td.text\n",
    "    \n",
    "print(timestamp + \" \" + contents)'''"
   ]
  },
  {
   "cell_type": "code",
   "execution_count": 4,
   "metadata": {},
   "outputs": [
    {
     "name": "stdout",
     "output_type": "stream",
     "text": [
      "['QQQ', 'Feb-26-21', '06:05AM\\xa0\\xa0', \"Retail traders say they're not going anywhere\"]\n"
     ]
    }
   ],
   "source": [
    "parsed_ = []\n",
    "\n",
    "for symbol, news_table in table_news.items():\n",
    "    for r in news_table.findAll('tr'):\n",
    "        contents = r.a.get_text()\n",
    "        date_ = r.td.text.split(' ')\n",
    "        \n",
    "        if len(date_) == 1:\n",
    "            time = date_[0]\n",
    "        else:\n",
    "            date = date_[0]\n",
    "            time = date_[1]\n",
    "            \n",
    "        parsed_.append([symbol, date, time, contents])\n",
    "        \n",
    "print(parsed_[10])"
   ]
  },
  {
   "cell_type": "markdown",
   "metadata": {},
   "source": [
    "#### Sentiment Analysis"
   ]
  },
  {
   "cell_type": "code",
   "execution_count": 5,
   "metadata": {},
   "outputs": [],
   "source": [
    "import pandas as pd\n",
    "import nltk\n",
    "from nltk.sentiment.vader import SentimentIntensityAnalyzer"
   ]
  },
  {
   "cell_type": "code",
   "execution_count": 6,
   "metadata": {},
   "outputs": [
    {
     "data": {
      "text/html": [
       "<div>\n",
       "<style scoped>\n",
       "    .dataframe tbody tr th:only-of-type {\n",
       "        vertical-align: middle;\n",
       "    }\n",
       "\n",
       "    .dataframe tbody tr th {\n",
       "        vertical-align: top;\n",
       "    }\n",
       "\n",
       "    .dataframe thead th {\n",
       "        text-align: right;\n",
       "    }\n",
       "</style>\n",
       "<table border=\"1\" class=\"dataframe\">\n",
       "  <thead>\n",
       "    <tr style=\"text-align: right;\">\n",
       "      <th></th>\n",
       "      <th>Symbol</th>\n",
       "      <th>Date</th>\n",
       "      <th>Time</th>\n",
       "      <th>Contents</th>\n",
       "    </tr>\n",
       "  </thead>\n",
       "  <tbody>\n",
       "    <tr>\n",
       "      <th>0</th>\n",
       "      <td>QQQ</td>\n",
       "      <td>Mar-03-21</td>\n",
       "      <td>04:00PM</td>\n",
       "      <td>Stock market news live updates: Stocks end low...</td>\n",
       "    </tr>\n",
       "    <tr>\n",
       "      <th>1</th>\n",
       "      <td>QQQ</td>\n",
       "      <td>Mar-03-21</td>\n",
       "      <td>01:57PM</td>\n",
       "      <td>Who Are the ETF Giants?</td>\n",
       "    </tr>\n",
       "    <tr>\n",
       "      <th>2</th>\n",
       "      <td>QQQ</td>\n",
       "      <td>Mar-03-21</td>\n",
       "      <td>08:15AM</td>\n",
       "      <td>Private employers added back 117,000 jobs in F...</td>\n",
       "    </tr>\n",
       "    <tr>\n",
       "      <th>3</th>\n",
       "      <td>QQQ</td>\n",
       "      <td>Mar-03-21</td>\n",
       "      <td>06:01AM</td>\n",
       "      <td>SPACs are now a $700 billion market: Morning B...</td>\n",
       "    </tr>\n",
       "    <tr>\n",
       "      <th>4</th>\n",
       "      <td>QQQ</td>\n",
       "      <td>Mar-02-21</td>\n",
       "      <td>04:00PM</td>\n",
       "      <td>Stock market news live updates: Stocks retreat...</td>\n",
       "    </tr>\n",
       "    <tr>\n",
       "      <th>5</th>\n",
       "      <td>QQQ</td>\n",
       "      <td>Mar-02-21</td>\n",
       "      <td>06:02AM</td>\n",
       "      <td>American manufacturing is roaring back</td>\n",
       "    </tr>\n",
       "    <tr>\n",
       "      <th>6</th>\n",
       "      <td>QQQ</td>\n",
       "      <td>Mar-01-21</td>\n",
       "      <td>04:00PM</td>\n",
       "      <td>Stock market news live updates: Stocks rally a...</td>\n",
       "    </tr>\n",
       "  </tbody>\n",
       "</table>\n",
       "</div>"
      ],
      "text/plain": [
       "  Symbol       Date       Time  \\\n",
       "0    QQQ  Mar-03-21  04:00PM     \n",
       "1    QQQ  Mar-03-21  01:57PM     \n",
       "2    QQQ  Mar-03-21  08:15AM     \n",
       "3    QQQ  Mar-03-21  06:01AM     \n",
       "4    QQQ  Mar-02-21  04:00PM     \n",
       "5    QQQ  Mar-02-21  06:02AM     \n",
       "6    QQQ  Mar-01-21  04:00PM     \n",
       "\n",
       "                                            Contents  \n",
       "0  Stock market news live updates: Stocks end low...  \n",
       "1                            Who Are the ETF Giants?  \n",
       "2  Private employers added back 117,000 jobs in F...  \n",
       "3  SPACs are now a $700 billion market: Morning B...  \n",
       "4  Stock market news live updates: Stocks retreat...  \n",
       "5             American manufacturing is roaring back  \n",
       "6  Stock market news live updates: Stocks rally a...  "
      ]
     },
     "execution_count": 6,
     "metadata": {},
     "output_type": "execute_result"
    }
   ],
   "source": [
    "# create a dataframe from the parsed data\n",
    "df = pd.DataFrame(parsed_, columns=['Symbol', 'Date', 'Time', 'Contents'])\n",
    "df.head(7)"
   ]
  },
  {
   "cell_type": "code",
   "execution_count": 7,
   "metadata": {},
   "outputs": [],
   "source": [
    "# install vader_lexicon\n",
    "#nltk.download('vader_lexicon')"
   ]
  },
  {
   "cell_type": "code",
   "execution_count": 8,
   "metadata": {},
   "outputs": [],
   "source": [
    "# vader to analyzer the text contents\n",
    "vader = SentimentIntensityAnalyzer()"
   ]
  },
  {
   "cell_type": "code",
   "execution_count": 9,
   "metadata": {},
   "outputs": [
    {
     "name": "stdout",
     "output_type": "stream",
     "text": [
      "{'neg': 0.252, 'neu': 0.748, 'pos': 0.0, 'compound': -0.4019}\n"
     ]
    }
   ],
   "source": [
    "# perform a negative test by using vader\n",
    "print(vader.polarity_scores(\"The infection rate is increasing. The economy will crash\"))"
   ]
  },
  {
   "cell_type": "code",
   "execution_count": 10,
   "metadata": {},
   "outputs": [
    {
     "name": "stdout",
     "output_type": "stream",
     "text": [
      "{'neg': 0.0, 'neu': 0.661, 'pos': 0.339, 'compound': 0.6249}\n"
     ]
    }
   ],
   "source": [
    "# perform a positive test by using vader\n",
    "print(vader.polarity_scores(\"The earning reports are great. The stocks will rise\"))"
   ]
  },
  {
   "cell_type": "code",
   "execution_count": 11,
   "metadata": {},
   "outputs": [],
   "source": [
    "# create a new column with the Score from vader\n",
    "df['Score'] = df['Contents'].apply(lambda contents: vader.polarity_scores(contents)['compound'])"
   ]
  },
  {
   "cell_type": "code",
   "execution_count": 12,
   "metadata": {},
   "outputs": [
    {
     "data": {
      "text/html": [
       "<div>\n",
       "<style scoped>\n",
       "    .dataframe tbody tr th:only-of-type {\n",
       "        vertical-align: middle;\n",
       "    }\n",
       "\n",
       "    .dataframe tbody tr th {\n",
       "        vertical-align: top;\n",
       "    }\n",
       "\n",
       "    .dataframe thead th {\n",
       "        text-align: right;\n",
       "    }\n",
       "</style>\n",
       "<table border=\"1\" class=\"dataframe\">\n",
       "  <thead>\n",
       "    <tr style=\"text-align: right;\">\n",
       "      <th></th>\n",
       "      <th>Symbol</th>\n",
       "      <th>Date</th>\n",
       "      <th>Time</th>\n",
       "      <th>Contents</th>\n",
       "      <th>Score</th>\n",
       "    </tr>\n",
       "  </thead>\n",
       "  <tbody>\n",
       "    <tr>\n",
       "      <th>10</th>\n",
       "      <td>QQQ</td>\n",
       "      <td>Feb-26-21</td>\n",
       "      <td>06:05AM</td>\n",
       "      <td>Retail traders say they're not going anywhere</td>\n",
       "      <td>0.0000</td>\n",
       "    </tr>\n",
       "    <tr>\n",
       "      <th>11</th>\n",
       "      <td>QQQ</td>\n",
       "      <td>Feb-26-21</td>\n",
       "      <td>06:00AM</td>\n",
       "      <td>YF Spotlight: American educators search for co...</td>\n",
       "      <td>0.0000</td>\n",
       "    </tr>\n",
       "    <tr>\n",
       "      <th>12</th>\n",
       "      <td>QQQ</td>\n",
       "      <td>Feb-25-21</td>\n",
       "      <td>04:41PM</td>\n",
       "      <td>These Nasdaq 100 stocks fell the most on Feb. 25</td>\n",
       "      <td>0.0000</td>\n",
       "    </tr>\n",
       "    <tr>\n",
       "      <th>13</th>\n",
       "      <td>QQQ</td>\n",
       "      <td>Feb-25-21</td>\n",
       "      <td>04:03PM</td>\n",
       "      <td>Stock market news live updates: Stocks drop, N...</td>\n",
       "      <td>-0.7351</td>\n",
       "    </tr>\n",
       "    <tr>\n",
       "      <th>14</th>\n",
       "      <td>QQQ</td>\n",
       "      <td>Feb-25-21</td>\n",
       "      <td>06:00AM</td>\n",
       "      <td>'I don't' miss the glamour of Hollywood: Legen...</td>\n",
       "      <td>0.1200</td>\n",
       "    </tr>\n",
       "  </tbody>\n",
       "</table>\n",
       "</div>"
      ],
      "text/plain": [
       "   Symbol       Date       Time  \\\n",
       "10    QQQ  Feb-26-21  06:05AM     \n",
       "11    QQQ  Feb-26-21  06:00AM     \n",
       "12    QQQ  Feb-25-21  04:41PM     \n",
       "13    QQQ  Feb-25-21  04:03PM     \n",
       "14    QQQ  Feb-25-21  06:00AM     \n",
       "\n",
       "                                             Contents   Score  \n",
       "10      Retail traders say they're not going anywhere  0.0000  \n",
       "11  YF Spotlight: American educators search for co...  0.0000  \n",
       "12   These Nasdaq 100 stocks fell the most on Feb. 25  0.0000  \n",
       "13  Stock market news live updates: Stocks drop, N... -0.7351  \n",
       "14  'I don't' miss the glamour of Hollywood: Legen...  0.1200  "
      ]
     },
     "execution_count": 12,
     "metadata": {},
     "output_type": "execute_result"
    }
   ],
   "source": [
    "# examine some columns\n",
    "df[10:20].head()"
   ]
  },
  {
   "cell_type": "markdown",
   "metadata": {},
   "source": [
    "#### Data Visualization"
   ]
  },
  {
   "cell_type": "code",
   "execution_count": 13,
   "metadata": {},
   "outputs": [],
   "source": [
    "import matplotlib.pyplot as plt"
   ]
  },
  {
   "cell_type": "code",
   "execution_count": 14,
   "metadata": {},
   "outputs": [],
   "source": [
    "# convert the Date column from str to date-time format\n",
    "df['Date'] = pd.to_datetime(df.Date).dt.date"
   ]
  },
  {
   "cell_type": "code",
   "execution_count": 15,
   "metadata": {},
   "outputs": [
    {
     "data": {
      "image/png": "[encoded data removed]",
      "text/plain": [
       "<Figure size 1080x720 with 1 Axes>"
      ]
     },
     "metadata": {
      "needs_background": "light"
     },
     "output_type": "display_data"
    }
   ],
   "source": [
    "# plot the bar chart\n",
    "mean_ = df.groupby(['Symbol', 'Date']).mean()\n",
    "mean_ = mean_.unstack()\n",
    "mean_ = mean_.xs('Score', axis='columns').transpose()\n",
    "mean_.plot(kind='bar', figsize=(15,10))\n",
    "plt.show()"
   ]
  },
  {
   "cell_type": "markdown",
   "metadata": {},
   "source": [
    "#### Interesting Find: Stocks tend to dip before every election, this chart shows that there were good news before election. \n",
    "#### As a result, the S&P 500 Index (SPY) jumped a whoppy 11% during the election week."
   ]
  },
  {
   "cell_type": "markdown",
   "metadata": {},
   "source": [
    "#### For one stock"
   ]
  },
  {
   "cell_type": "code",
   "execution_count": 16,
   "metadata": {},
   "outputs": [
    {
     "data": {
      "image/png": "[encoded data removed]",
      "text/plain": [
       "<Figure size 1080x720 with 1 Axes>"
      ]
     },
     "metadata": {
      "needs_background": "light"
     },
     "output_type": "display_data"
    }
   ],
   "source": [
    "#### Insert any stock ticker to get its sentiment analysis\n",
    "\n",
    "tickers = ['SPY']\n",
    "\n",
    "table_news = {}\n",
    "\n",
    "for symbol in tickers:\n",
    "    url = fv_url + symbol\n",
    "    \n",
    "    req = Request(url=url, headers={'user-agent': 'my-app'})\n",
    "    response = urlopen(req)\n",
    "    \n",
    "    html = BeautifulSoup(response, 'html')\n",
    "    news_table = html.find(id='news-table')\n",
    "    table_news[symbol] = news_table\n",
    "\n",
    "parsed_ = []\n",
    "\n",
    "for symbol, news_table in table_news.items():\n",
    "    for r in news_table.findAll('tr'):\n",
    "        contents = r.a.get_text()\n",
    "        date_ = r.td.text.split(' ')\n",
    "        \n",
    "        if len(date_) == 1:\n",
    "            time = date_[0]\n",
    "        else:\n",
    "            date = date_[0]\n",
    "            time = date_[1]\n",
    "            \n",
    "        parsed_.append([symbol, date, time, contents])\n",
    "        \n",
    "df = pd.DataFrame(parsed_, columns=['Symbol', 'Date', 'Time', 'Contents'])\n",
    "df['Score'] = df['Contents'].apply(lambda contents: vader.polarity_scores(contents)['compound'])\n",
    "df['Date'] = pd.to_datetime(df.Date).dt.date\n",
    "mean_ = df.groupby(['Symbol', 'Date']).mean()\n",
    "mean_ = mean_.unstack()\n",
    "mean_ = mean_.xs('Score', axis='columns').transpose()\n",
    "mean_.plot(kind='bar', figsize=(15,10))\n",
    "plt.show()"
   ]
  },
  {
   "cell_type": "code",
   "execution_count": 17,
   "metadata": {},
   "outputs": [
    {
     "data": {
      "image/png": "[encoded data removed]",
      "text/plain": [
       "<Figure size 1080x720 with 1 Axes>"
      ]
     },
     "metadata": {
      "needs_background": "light"
     },
     "output_type": "display_data"
    }
   ],
   "source": [
    "#### Insert any stock ticker to get its sentiment analysis\n",
    "\n",
    "tickers = ['TLT']\n",
    "\n",
    "table_news = {}\n",
    "\n",
    "for symbol in tickers:\n",
    "    url = fv_url + symbol\n",
    "    \n",
    "    req = Request(url=url, headers={'user-agent': 'my-app'})\n",
    "    response = urlopen(req)\n",
    "    \n",
    "    html = BeautifulSoup(response, 'html')\n",
    "    news_table = html.find(id='news-table')\n",
    "    table_news[symbol] = news_table\n",
    "\n",
    "parsed_ = []\n",
    "\n",
    "for symbol, news_table in table_news.items():\n",
    "    for r in news_table.findAll('tr'):\n",
    "        contents = r.a.get_text()\n",
    "        date_ = r.td.text.split(' ')\n",
    "        \n",
    "        if len(date_) == 1:\n",
    "            time = date_[0]\n",
    "        else:\n",
    "            date = date_[0]\n",
    "            time = date_[1]\n",
    "            \n",
    "        parsed_.append([symbol, date, time, contents])\n",
    "        \n",
    "df = pd.DataFrame(parsed_, columns=['Symbol', 'Date', 'Time', 'Contents'])\n",
    "df['Score'] = df['Contents'].apply(lambda contents: vader.polarity_scores(contents)['compound'])\n",
    "df['Date'] = pd.to_datetime(df.Date).dt.date\n",
    "mean_ = df.groupby(['Symbol', 'Date']).mean()\n",
    "mean_ = mean_.unstack()\n",
    "mean_ = mean_.xs('Score', axis='columns').transpose()\n",
    "mean_.plot(kind='bar', figsize=(15,10))\n",
    "plt.show()"
   ]
  },
  {
   "cell_type": "code",
   "execution_count": 18,
   "metadata": {},
   "outputs": [
    {
     "data": {
      "image/png": "[encoded data removed]",
      "text/plain": [
       "<Figure size 1080x720 with 1 Axes>"
      ]
     },
     "metadata": {
      "needs_background": "light"
     },
     "output_type": "display_data"
    }
   ],
   "source": [
    "#### Insert any stock ticker to get its sentiment analysis\n",
    "\n",
    "tickers = ['QQQ']\n",
    "\n",
    "table_news = {}\n",
    "\n",
    "for symbol in tickers:\n",
    "    url = fv_url + symbol\n",
    "    \n",
    "    req = Request(url=url, headers={'user-agent': 'my-app'})\n",
    "    response = urlopen(req)\n",
    "    \n",
    "    html = BeautifulSoup(response, 'html')\n",
    "    news_table = html.find(id='news-table')\n",
    "    table_news[symbol] = news_table\n",
    "\n",
    "parsed_ = []\n",
    "\n",
    "for symbol, news_table in table_news.items():\n",
    "    for r in news_table.findAll('tr'):\n",
    "        contents = r.a.get_text()\n",
    "        date_ = r.td.text.split(' ')\n",
    "        \n",
    "        if len(date_) == 1:\n",
    "            time = date_[0]\n",
    "        else:\n",
    "            date = date_[0]\n",
    "            time = date_[1]\n",
    "            \n",
    "        parsed_.append([symbol, date, time, contents])\n",
    "        \n",
    "df = pd.DataFrame(parsed_, columns=['Symbol', 'Date', 'Time', 'Contents'])\n",
    "df['Score'] = df['Contents'].apply(lambda contents: vader.polarity_scores(contents)['compound'])\n",
    "df['Date'] = pd.to_datetime(df.Date).dt.date\n",
    "mean_ = df.groupby(['Symbol', 'Date']).mean()\n",
    "mean_ = mean_.unstack()\n",
    "mean_ = mean_.xs('Score', axis='columns').transpose()\n",
    "mean_.plot(kind='bar', figsize=(15,10))\n",
    "plt.show()"
   ]
  },
  {
   "cell_type": "code",
   "execution_count": 19,
   "metadata": {},
   "outputs": [
    {
     "data": {
      "image/png": "[encoded data removed]",
      "text/plain": [
       "<Figure size 1080x720 with 1 Axes>"
      ]
     },
     "metadata": {
      "needs_background": "light"
     },
     "output_type": "display_data"
    }
   ],
   "source": [
    "#### Insert any stock ticker to get its sentiment analysis\n",
    "\n",
    "tickers = ['GME']\n",
    "\n",
    "table_news = {}\n",
    "\n",
    "for symbol in tickers:\n",
    "    url = fv_url + symbol\n",
    "    \n",
    "    req = Request(url=url, headers={'user-agent': 'my-app'})\n",
    "    response = urlopen(req)\n",
    "    \n",
    "    html = BeautifulSoup(response, 'html')\n",
    "    news_table = html.find(id='news-table')\n",
    "    table_news[symbol] = news_table\n",
    "\n",
    "parsed_ = []\n",
    "\n",
    "for symbol, news_table in table_news.items():\n",
    "    for r in news_table.findAll('tr'):\n",
    "        contents = r.a.get_text()\n",
    "        date_ = r.td.text.split(' ')\n",
    "        \n",
    "        if len(date_) == 1:\n",
    "            time = date_[0]\n",
    "        else:\n",
    "            date = date_[0]\n",
    "            time = date_[1]\n",
    "            \n",
    "        parsed_.append([symbol, date, time, contents])\n",
    "        \n",
    "df = pd.DataFrame(parsed_, columns=['Symbol', 'Date', 'Time', 'Contents'])\n",
    "df['Score'] = df['Contents'].apply(lambda contents: vader.polarity_scores(contents)['compound'])\n",
    "df['Date'] = pd.to_datetime(df.Date).dt.date\n",
    "mean_ = df.groupby(['Symbol', 'Date']).mean()\n",
    "mean_ = mean_.unstack()\n",
    "mean_ = mean_.xs('Score', axis='columns').transpose()\n",
    "mean_.plot(kind='bar', figsize=(15,10))\n",
    "plt.show()"
   ]
  },
  {
   "cell_type": "code",
   "execution_count": 20,
   "metadata": {},
   "outputs": [
    {
     "data": {
      "image/png": "[encoded data removed]",
      "text/plain": [
       "<Figure size 1080x720 with 1 Axes>"
      ]
     },
     "metadata": {
      "needs_background": "light"
     },
     "output_type": "display_data"
    }
   ],
   "source": [
    "#### Insert any stock ticker to get its sentiment analysis\n",
    "\n",
    "tickers = ['PLTR']\n",
    "\n",
    "table_news = {}\n",
    "\n",
    "for symbol in tickers:\n",
    "    url = fv_url + symbol\n",
    "    \n",
    "    req = Request(url=url, headers={'user-agent': 'my-app'})\n",
    "    response = urlopen(req)\n",
    "    \n",
    "    html = BeautifulSoup(response, 'html')\n",
    "    news_table = html.find(id='news-table')\n",
    "    table_news[symbol] = news_table\n",
    "\n",
    "parsed_ = []\n",
    "\n",
    "for symbol, news_table in table_news.items():\n",
    "    for r in news_table.findAll('tr'):\n",
    "        contents = r.a.get_text()\n",
    "        date_ = r.td.text.split(' ')\n",
    "        \n",
    "        if len(date_) == 1:\n",
    "            time = date_[0]\n",
    "        else:\n",
    "            date = date_[0]\n",
    "            time = date_[1]\n",
    "            \n",
    "        parsed_.append([symbol, date, time, contents])\n",
    "        \n",
    "df = pd.DataFrame(parsed_, columns=['Symbol', 'Date', 'Time', 'Contents'])\n",
    "df['Score'] = df['Contents'].apply(lambda contents: vader.polarity_scores(contents)['compound'])\n",
    "df['Date'] = pd.to_datetime(df.Date).dt.date\n",
    "mean_ = df.groupby(['Symbol', 'Date']).mean()\n",
    "mean_ = mean_.unstack()\n",
    "mean_ = mean_.xs('Score', axis='columns').transpose()\n",
    "mean_.plot(kind='bar', figsize=(15,10))\n",
    "plt.show()"
   ]
  },
  {
   "cell_type": "code",
   "execution_count": 21,
   "metadata": {},
   "outputs": [
    {
     "data": {
      "image/png": "[encoded data removed]",
      "text/plain": [
       "<Figure size 1080x720 with 1 Axes>"
      ]
     },
     "metadata": {
      "needs_background": "light"
     },
     "output_type": "display_data"
    }
   ],
   "source": [
    "#### Insert any stock ticker to get its sentiment analysis\n",
    "\n",
    "tickers = ['AAPL']\n",
    "\n",
    "table_news = {}\n",
    "\n",
    "for symbol in tickers:\n",
    "    url = fv_url + symbol\n",
    "    \n",
    "    req = Request(url=url, headers={'user-agent': 'my-app'})\n",
    "    response = urlopen(req)\n",
    "    \n",
    "    html = BeautifulSoup(response, 'html')\n",
    "    news_table = html.find(id='news-table')\n",
    "    table_news[symbol] = news_table\n",
    "\n",
    "parsed_ = []\n",
    "\n",
    "for symbol, news_table in table_news.items():\n",
    "    for r in news_table.findAll('tr'):\n",
    "        contents = r.a.get_text()\n",
    "        date_ = r.td.text.split(' ')\n",
    "        \n",
    "        if len(date_) == 1:\n",
    "            time = date_[0]\n",
    "        else:\n",
    "            date = date_[0]\n",
    "            time = date_[1]\n",
    "            \n",
    "        parsed_.append([symbol, date, time, contents])\n",
    "        \n",
    "df = pd.DataFrame(parsed_, columns=['Symbol', 'Date', 'Time', 'Contents'])\n",
    "df['Score'] = df['Contents'].apply(lambda contents: vader.polarity_scores(contents)['compound'])\n",
    "df['Date'] = pd.to_datetime(df.Date).dt.date\n",
    "mean_ = df.groupby(['Symbol', 'Date']).mean()\n",
    "mean_ = mean_.unstack()\n",
    "mean_ = mean_.xs('Score', axis='columns').transpose()\n",
    "mean_.plot(kind='bar', figsize=(15,10))\n",
    "plt.show()"
   ]
  },
  {
   "cell_type": "code",
   "execution_count": 22,
   "metadata": {},
   "outputs": [
    {
     "data": {
      "image/png": "[encoded data removed]",
      "text/plain": [
       "<Figure size 1080x720 with 1 Axes>"
      ]
     },
     "metadata": {
      "needs_background": "light"
     },
     "output_type": "display_data"
    }
   ],
   "source": [
    "#### Insert any stock ticker to get its sentiment analysis\n",
    "\n",
    "tickers = ['NIO']\n",
    "\n",
    "table_news = {}\n",
    "\n",
    "for symbol in tickers:\n",
    "    url = fv_url + symbol\n",
    "    \n",
    "    req = Request(url=url, headers={'user-agent': 'my-app'})\n",
    "    response = urlopen(req)\n",
    "    \n",
    "    html = BeautifulSoup(response, 'html')\n",
    "    news_table = html.find(id='news-table')\n",
    "    table_news[symbol] = news_table\n",
    "\n",
    "parsed_ = []\n",
    "\n",
    "for symbol, news_table in table_news.items():\n",
    "    for r in news_table.findAll('tr'):\n",
    "        contents = r.a.get_text()\n",
    "        date_ = r.td.text.split(' ')\n",
    "        \n",
    "        if len(date_) == 1:\n",
    "            time = date_[0]\n",
    "        else:\n",
    "            date = date_[0]\n",
    "            time = date_[1]\n",
    "            \n",
    "        parsed_.append([symbol, date, time, contents])\n",
    "        \n",
    "df = pd.DataFrame(parsed_, columns=['Symbol', 'Date', 'Time', 'Contents'])\n",
    "df['Score'] = df['Contents'].apply(lambda contents: vader.polarity_scores(contents)['compound'])\n",
    "df['Date'] = pd.to_datetime(df.Date).dt.date\n",
    "mean_ = df.groupby(['Symbol', 'Date']).mean()\n",
    "mean_ = mean_.unstack()\n",
    "mean_ = mean_.xs('Score', axis='columns').transpose()\n",
    "mean_.plot(kind='bar', figsize=(15,10))\n",
    "plt.show()"
   ]
  },
  {
   "cell_type": "code",
   "execution_count": 23,
   "metadata": {},
   "outputs": [
    {
     "data": {
      "image/png": "[encoded data removed]",
      "text/plain": [
       "<Figure size 1080x720 with 1 Axes>"
      ]
     },
     "metadata": {
      "needs_background": "light"
     },
     "output_type": "display_data"
    }
   ],
   "source": [
    "#### Insert any stock ticker to get its sentiment analysis\n",
    "\n",
    "tickers = ['LMT']\n",
    "\n",
    "table_news = {}\n",
    "\n",
    "for symbol in tickers:\n",
    "    url = fv_url + symbol\n",
    "    \n",
    "    req = Request(url=url, headers={'user-agent': 'my-app'})\n",
    "    response = urlopen(req)\n",
    "    \n",
    "    html = BeautifulSoup(response, 'html')\n",
    "    news_table = html.find(id='news-table')\n",
    "    table_news[symbol] = news_table\n",
    "\n",
    "parsed_ = []\n",
    "\n",
    "for symbol, news_table in table_news.items():\n",
    "    for r in news_table.findAll('tr'):\n",
    "        contents = r.a.get_text()\n",
    "        date_ = r.td.text.split(' ')\n",
    "        \n",
    "        if len(date_) == 1:\n",
    "            time = date_[0]\n",
    "        else:\n",
    "            date = date_[0]\n",
    "            time = date_[1]\n",
    "            \n",
    "        parsed_.append([symbol, date, time, contents])\n",
    "        \n",
    "df = pd.DataFrame(parsed_, columns=['Symbol', 'Date', 'Time', 'Contents'])\n",
    "df['Score'] = df['Contents'].apply(lambda contents: vader.polarity_scores(contents)['compound'])\n",
    "df['Date'] = pd.to_datetime(df.Date).dt.date\n",
    "mean_ = df.groupby(['Symbol', 'Date']).mean()\n",
    "mean_ = mean_.unstack()\n",
    "mean_ = mean_.xs('Score', axis='columns').transpose()\n",
    "mean_.plot(kind='bar', figsize=(15,10))\n",
    "plt.show()"
   ]
  },
  {
   "cell_type": "code",
   "execution_count": 24,
   "metadata": {},
   "outputs": [
    {
     "data": {
      "image/png": "[encoded data removed]",
      "text/plain": [
       "<Figure size 1080x720 with 1 Axes>"
      ]
     },
     "metadata": {
      "needs_background": "light"
     },
     "output_type": "display_data"
    }
   ],
   "source": [
    "#### Insert any stock ticker to get its sentiment analysis\n",
    "\n",
    "tickers = ['TSLA']\n",
    "\n",
    "table_news = {}\n",
    "\n",
    "for symbol in tickers:\n",
    "    url = fv_url + symbol\n",
    "    \n",
    "    req = Request(url=url, headers={'user-agent': 'my-app'})\n",
    "    response = urlopen(req)\n",
    "    \n",
    "    html = BeautifulSoup(response, 'html')\n",
    "    news_table = html.find(id='news-table')\n",
    "    table_news[symbol] = news_table\n",
    "\n",
    "parsed_ = []\n",
    "\n",
    "for symbol, news_table in table_news.items():\n",
    "    for r in news_table.findAll('tr'):\n",
    "        contents = r.a.get_text()\n",
    "        date_ = r.td.text.split(' ')\n",
    "        \n",
    "        if len(date_) == 1:\n",
    "            time = date_[0]\n",
    "        else:\n",
    "            date = date_[0]\n",
    "            time = date_[1]\n",
    "            \n",
    "        parsed_.append([symbol, date, time, contents])\n",
    "        \n",
    "df = pd.DataFrame(parsed_, columns=['Symbol', 'Date', 'Time', 'Contents'])\n",
    "df['Score'] = df['Contents'].apply(lambda contents: vader.polarity_scores(contents)['compound'])\n",
    "df['Date'] = pd.to_datetime(df.Date).dt.date\n",
    "mean_ = df.groupby(['Symbol', 'Date']).mean()\n",
    "mean_ = mean_.unstack()\n",
    "mean_ = mean_.xs('Score', axis='columns').transpose()\n",
    "mean_.plot(kind='bar', figsize=(15,10))\n",
    "plt.show()"
   ]
  },
  {
   "cell_type": "code",
   "execution_count": null,
   "metadata": {},
   "outputs": [],
   "source": []
  }
 ],
 "metadata": {
  "kernelspec": {
   "display_name": "Python 3",
   "language": "python",
   "name": "python3"
  },
  "language_info": {
   "codemirror_mode": {
    "name": "ipython",
    "version": 3
   },
   "file_extension": ".py",
   "mimetype": "text/x-python",
   "name": "python",
   "nbconvert_exporter": "python",
   "pygments_lexer": "ipython3",
   "version": "3.8.5"
  }
 },
 "nbformat": 4,
 "nbformat_minor": 2
}
